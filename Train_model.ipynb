{
 "cells": [
  {
   "cell_type": "markdown",
   "metadata": {},
   "source": [
    "Step no 1 :-Import packages"
   ]
  },
  {
   "cell_type": "code",
   "execution_count": 1,
   "metadata": {},
   "outputs": [],
   "source": [
    "import cv2  #use for image & video processing \n",
    "from keras.models import Sequential #keras is a high level  Deeplearning libery and sequentail is a model like as a container in which add sequence layer line by line \n",
    "from keras.layers import Conv2D, MaxPooling2D, Dense, Dropout, Flatten\n",
    "from keras.optimizers import Adam\n",
    "from keras.preprocessing.image import ImageDataGenerator"
   ]
  },
  {
   "cell_type": "markdown",
   "metadata": {},
   "source": [
    "Step no 2 :- Initialize img Generator with rescaling"
   ]
  },
  {
   "cell_type": "code",
   "execution_count": 2,
   "metadata": {},
   "outputs": [],
   "source": [
    "train_data_gen = ImageDataGenerator(rescale=1./255)\n",
    "test_data_gen = ImageDataGenerator(rescale=1./255)"
   ]
  },
  {
   "cell_type": "markdown",
   "metadata": {},
   "source": [
    "Step no 3:-  Preprocess all train images and test images"
   ]
  },
  {
   "cell_type": "code",
   "execution_count": 4,
   "metadata": {},
   "outputs": [
    {
     "name": "stdout",
     "output_type": "stream",
     "text": [
      "Found 20196 images belonging to 4 classes.\n",
      "Found 5095 images belonging to 4 classes.\n"
     ]
    }
   ],
   "source": [
    "train_generator = train_data_gen.flow_from_directory(\n",
    "        'traina',\n",
    "        target_size=(48, 48),\n",
    "        batch_size=64,\n",
    "        color_mode=\"grayscale\",\n",
    "        class_mode='categorical')\n",
    "\n",
    "validation_generator = test_data_gen.flow_from_directory(\n",
    "        'testa',\n",
    "        target_size=(48, 48),\n",
    "        batch_size=64,\n",
    "        color_mode=\"grayscale\",\n",
    "        class_mode='categorical')\n"
   ]
  },
  {
   "cell_type": "markdown",
   "metadata": {},
   "source": [
    "Step:-4 Create model structure"
   ]
  },
  {
   "cell_type": "code",
   "execution_count": 11,
   "metadata": {},
   "outputs": [],
   "source": [
    "emotion_model = Sequential()\n",
    "\n",
    "emotion_model.add(Conv2D(32, kernel_size=(3, 3), activation='relu', input_shape=(48, 48, 1)))\n",
    "emotion_model.add(Conv2D(64, kernel_size=(3, 3), activation='relu'))\n",
    "emotion_model.add(MaxPooling2D(pool_size=(2, 2)))\n",
    "emotion_model.add(Dropout(0.25))\n",
    "\n",
    "emotion_model.add(Conv2D(128, kernel_size=(3, 3), activation='relu'))\n",
    "emotion_model.add(MaxPooling2D(pool_size=(2, 2)))\n",
    "emotion_model.add(Conv2D(128, kernel_size=(3, 3), activation='relu'))\n",
    "emotion_model.add(MaxPooling2D(pool_size=(2, 2)))\n",
    "emotion_model.add(Dropout(0.35))\n",
    "\n",
    "emotion_model.add(Conv2D(256, kernel_size=(3, 3), activation='relu'))\n",
    "emotion_model.add(MaxPooling2D(pool_size=(2, 2)))\n",
    "emotion_model.add(Dropout(0.25))\n",
    "\n",
    "\n",
    "\n",
    "emotion_model.add(Flatten())\n",
    "emotion_model.add(Dense(512, activation='relu'))\n",
    "emotion_model.add(Dropout(0.4))\n",
    "emotion_model.add(Dense(4, activation='softmax'))\n",
    "\n",
    "cv2.ocl.setUseOpenCL(False)"
   ]
  },
  {
   "cell_type": "code",
   "execution_count": 12,
   "metadata": {},
   "outputs": [],
   "source": [
    "from tensorflow.keras.optimizers import Adam\n",
    "\n",
    "# Create an instance of the legacy optimizer with decay\n",
    "optimizer = Adam(learning_rate=0.0001)\n",
    "\n",
    "# Compile your model with the optimizer\n",
    "emotion_model.compile(loss='categorical_crossentropy', optimizer=optimizer, metrics=['accuracy'])\n"
   ]
  },
  {
   "cell_type": "markdown",
   "metadata": {},
   "source": [
    "Step no :-5  Train the neural network/model"
   ]
  },
  {
   "cell_type": "code",
   "execution_count": 13,
   "metadata": {},
   "outputs": [
    {
     "name": "stdout",
     "output_type": "stream",
     "text": [
      "Epoch 1/50\n",
      "315/315 [==============================] - 404s 1s/step - loss: 1.3533 - accuracy: 0.3569 - val_loss: 1.3517 - val_accuracy: 0.3491\n",
      "Epoch 2/50\n",
      "315/315 [==============================] - 194s 617ms/step - loss: 1.3205 - accuracy: 0.3652 - val_loss: 1.2837 - val_accuracy: 0.3942\n",
      "Epoch 3/50\n",
      "315/315 [==============================] - 215s 681ms/step - loss: 1.1522 - accuracy: 0.4820 - val_loss: 1.0155 - val_accuracy: 0.5587\n",
      "Epoch 4/50\n",
      "315/315 [==============================] - 188s 597ms/step - loss: 1.0242 - accuracy: 0.5550 - val_loss: 0.9401 - val_accuracy: 0.5930\n",
      "Epoch 5/50\n",
      "315/315 [==============================] - 196s 622ms/step - loss: 0.9539 - accuracy: 0.5907 - val_loss: 0.8855 - val_accuracy: 0.6228\n",
      "Epoch 6/50\n",
      "315/315 [==============================] - 193s 612ms/step - loss: 0.8948 - accuracy: 0.6203 - val_loss: 0.8313 - val_accuracy: 0.6551\n",
      "Epoch 7/50\n",
      "315/315 [==============================] - 191s 606ms/step - loss: 0.8543 - accuracy: 0.6422 - val_loss: 0.7979 - val_accuracy: 0.6695\n",
      "Epoch 8/50\n",
      "315/315 [==============================] - 199s 631ms/step - loss: 0.8187 - accuracy: 0.6580 - val_loss: 0.7915 - val_accuracy: 0.6806\n",
      "Epoch 9/50\n",
      "315/315 [==============================] - 181s 576ms/step - loss: 0.7892 - accuracy: 0.6738 - val_loss: 0.7608 - val_accuracy: 0.6816\n",
      "Epoch 10/50\n",
      "315/315 [==============================] - 188s 597ms/step - loss: 0.7686 - accuracy: 0.6861 - val_loss: 0.7385 - val_accuracy: 0.6992\n",
      "Epoch 11/50\n",
      "315/315 [==============================] - 187s 594ms/step - loss: 0.7468 - accuracy: 0.6955 - val_loss: 0.7367 - val_accuracy: 0.7025\n",
      "Epoch 12/50\n",
      "315/315 [==============================] - 191s 607ms/step - loss: 0.7294 - accuracy: 0.7034 - val_loss: 0.7123 - val_accuracy: 0.7102\n",
      "Epoch 13/50\n",
      "315/315 [==============================] - 171s 541ms/step - loss: 0.7077 - accuracy: 0.7130 - val_loss: 0.7133 - val_accuracy: 0.7071\n",
      "Epoch 14/50\n",
      "315/315 [==============================] - 186s 592ms/step - loss: 0.6934 - accuracy: 0.7172 - val_loss: 0.6895 - val_accuracy: 0.7172\n",
      "Epoch 15/50\n",
      "315/315 [==============================] - 201s 637ms/step - loss: 0.6820 - accuracy: 0.7232 - val_loss: 0.6848 - val_accuracy: 0.7180\n",
      "Epoch 16/50\n",
      "315/315 [==============================] - 198s 627ms/step - loss: 0.6697 - accuracy: 0.7292 - val_loss: 0.6729 - val_accuracy: 0.7221\n",
      "Epoch 17/50\n",
      "315/315 [==============================] - 183s 582ms/step - loss: 0.6588 - accuracy: 0.7357 - val_loss: 0.6714 - val_accuracy: 0.7235\n",
      "Epoch 18/50\n",
      "315/315 [==============================] - 189s 600ms/step - loss: 0.6370 - accuracy: 0.7427 - val_loss: 0.6598 - val_accuracy: 0.7308\n",
      "Epoch 19/50\n",
      "315/315 [==============================] - 195s 618ms/step - loss: 0.6339 - accuracy: 0.7425 - val_loss: 0.6611 - val_accuracy: 0.7306\n",
      "Epoch 20/50\n",
      "315/315 [==============================] - 201s 636ms/step - loss: 0.6216 - accuracy: 0.7505 - val_loss: 0.6483 - val_accuracy: 0.7338\n",
      "Epoch 21/50\n",
      "315/315 [==============================] - 185s 586ms/step - loss: 0.6051 - accuracy: 0.7584 - val_loss: 0.6486 - val_accuracy: 0.7342\n",
      "Epoch 22/50\n",
      "315/315 [==============================] - 193s 614ms/step - loss: 0.5934 - accuracy: 0.7607 - val_loss: 0.6386 - val_accuracy: 0.7411\n",
      "Epoch 23/50\n",
      "315/315 [==============================] - 201s 637ms/step - loss: 0.5898 - accuracy: 0.7634 - val_loss: 0.6330 - val_accuracy: 0.7383\n",
      "Epoch 24/50\n",
      "315/315 [==============================] - 198s 628ms/step - loss: 0.5775 - accuracy: 0.7689 - val_loss: 0.6328 - val_accuracy: 0.7379\n",
      "Epoch 25/50\n",
      "315/315 [==============================] - 189s 598ms/step - loss: 0.5651 - accuracy: 0.7765 - val_loss: 0.6243 - val_accuracy: 0.7451\n",
      "Epoch 26/50\n",
      "315/315 [==============================] - 199s 632ms/step - loss: 0.5565 - accuracy: 0.7761 - val_loss: 0.6246 - val_accuracy: 0.7502\n",
      "Epoch 27/50\n",
      "315/315 [==============================] - 192s 610ms/step - loss: 0.5480 - accuracy: 0.7814 - val_loss: 0.6172 - val_accuracy: 0.7518\n",
      "Epoch 28/50\n",
      "315/315 [==============================] - 176s 558ms/step - loss: 0.5329 - accuracy: 0.7883 - val_loss: 0.6243 - val_accuracy: 0.7496\n",
      "Epoch 29/50\n",
      "315/315 [==============================] - 176s 558ms/step - loss: 0.5257 - accuracy: 0.7915 - val_loss: 0.6133 - val_accuracy: 0.7571\n",
      "Epoch 30/50\n",
      "315/315 [==============================] - 188s 597ms/step - loss: 0.5162 - accuracy: 0.7979 - val_loss: 0.6141 - val_accuracy: 0.7569\n",
      "Epoch 31/50\n",
      "315/315 [==============================] - 205s 650ms/step - loss: 0.5107 - accuracy: 0.7994 - val_loss: 0.6067 - val_accuracy: 0.7579\n",
      "Epoch 32/50\n",
      "315/315 [==============================] - 185s 588ms/step - loss: 0.5010 - accuracy: 0.7992 - val_loss: 0.6097 - val_accuracy: 0.7545\n",
      "Epoch 33/50\n",
      "315/315 [==============================] - 199s 631ms/step - loss: 0.4893 - accuracy: 0.8068 - val_loss: 0.6107 - val_accuracy: 0.7589\n",
      "Epoch 34/50\n",
      "315/315 [==============================] - 214s 678ms/step - loss: 0.4815 - accuracy: 0.8100 - val_loss: 0.6127 - val_accuracy: 0.7518\n",
      "Epoch 35/50\n",
      "315/315 [==============================] - 236s 749ms/step - loss: 0.4748 - accuracy: 0.8132 - val_loss: 0.6095 - val_accuracy: 0.7561\n",
      "Epoch 36/50\n",
      "315/315 [==============================] - 210s 665ms/step - loss: 0.4637 - accuracy: 0.8165 - val_loss: 0.6055 - val_accuracy: 0.7591\n",
      "Epoch 37/50\n",
      "315/315 [==============================] - 214s 681ms/step - loss: 0.4550 - accuracy: 0.8203 - val_loss: 0.6096 - val_accuracy: 0.7571\n",
      "Epoch 38/50\n",
      "315/315 [==============================] - 208s 660ms/step - loss: 0.4408 - accuracy: 0.8271 - val_loss: 0.6001 - val_accuracy: 0.7587\n",
      "Epoch 39/50\n",
      "315/315 [==============================] - 211s 670ms/step - loss: 0.4375 - accuracy: 0.8291 - val_loss: 0.6059 - val_accuracy: 0.7595\n",
      "Epoch 40/50\n",
      "315/315 [==============================] - 219s 695ms/step - loss: 0.4336 - accuracy: 0.8309 - val_loss: 0.6090 - val_accuracy: 0.7613\n",
      "Epoch 41/50\n",
      "315/315 [==============================] - 209s 663ms/step - loss: 0.4149 - accuracy: 0.8406 - val_loss: 0.6067 - val_accuracy: 0.7573\n",
      "Epoch 42/50\n",
      "315/315 [==============================] - 227s 719ms/step - loss: 0.4097 - accuracy: 0.8430 - val_loss: 0.6136 - val_accuracy: 0.7648\n",
      "Epoch 43/50\n",
      "315/315 [==============================] - 176s 558ms/step - loss: 0.4029 - accuracy: 0.8447 - val_loss: 0.6100 - val_accuracy: 0.7640\n",
      "Epoch 44/50\n",
      "315/315 [==============================] - 165s 523ms/step - loss: 0.3913 - accuracy: 0.8485 - val_loss: 0.6130 - val_accuracy: 0.7605\n",
      "Epoch 45/50\n",
      "315/315 [==============================] - 181s 576ms/step - loss: 0.3871 - accuracy: 0.8497 - val_loss: 0.6125 - val_accuracy: 0.7581\n",
      "Epoch 46/50\n",
      "315/315 [==============================] - 182s 578ms/step - loss: 0.3784 - accuracy: 0.8515 - val_loss: 0.6088 - val_accuracy: 0.7607\n",
      "Epoch 47/50\n",
      "315/315 [==============================] - 183s 581ms/step - loss: 0.3724 - accuracy: 0.8578 - val_loss: 0.6363 - val_accuracy: 0.7561\n",
      "Epoch 48/50\n",
      "315/315 [==============================] - 183s 581ms/step - loss: 0.3590 - accuracy: 0.8615 - val_loss: 0.6235 - val_accuracy: 0.7532\n",
      "Epoch 49/50\n",
      "315/315 [==============================] - 182s 577ms/step - loss: 0.3606 - accuracy: 0.8602 - val_loss: 0.6121 - val_accuracy: 0.7609\n",
      "Epoch 50/50\n",
      "315/315 [==============================] - 182s 577ms/step - loss: 0.3499 - accuracy: 0.8639 - val_loss: 0.6171 - val_accuracy: 0.7625\n"
     ]
    }
   ],
   "source": [
    "emotion_model_info = emotion_model.fit(train_generator,\n",
    "        steps_per_epoch=20181 // 64,\n",
    "        epochs=50,\n",
    "        validation_data=validation_generator,\n",
    "        validation_steps=5085 // 64)"
   ]
  },
  {
   "cell_type": "markdown",
   "metadata": {},
   "source": [
    "Step no 6:- Save model structure in jason file"
   ]
  },
  {
   "cell_type": "code",
   "execution_count": 14,
   "metadata": {},
   "outputs": [],
   "source": [
    "model_json = emotion_model.to_json()\n",
    "with open(\"emotion_model.json\", \"w\") as json_file:\n",
    "    json_file.write(model_json)"
   ]
  },
  {
   "cell_type": "markdown",
   "metadata": {},
   "source": [
    "Step no 7:- Save trained model weight in .h5 file"
   ]
  },
  {
   "cell_type": "code",
   "execution_count": 15,
   "metadata": {},
   "outputs": [],
   "source": [
    "emotion_model.save_weights('emotion_model.h5')"
   ]
  }
 ],
 "metadata": {
  "kernelspec": {
   "display_name": "butterfly",
   "language": "python",
   "name": "python3"
  },
  "language_info": {
   "codemirror_mode": {
    "name": "ipython",
    "version": 3
   },
   "file_extension": ".py",
   "mimetype": "text/x-python",
   "name": "python",
   "nbconvert_exporter": "python",
   "pygments_lexer": "ipython3",
   "version": "3.11.4"
  },
  "orig_nbformat": 4
 },
 "nbformat": 4,
 "nbformat_minor": 2
}
